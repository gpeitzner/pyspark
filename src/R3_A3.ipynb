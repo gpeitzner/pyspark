{
 "cells": [
  {
   "cell_type": "code",
   "execution_count": 1,
   "id": "15a6465d-3c6b-4442-8b57-e01d295cfef8",
   "metadata": {},
   "outputs": [],
   "source": [
    "import findspark\n",
    "findspark.init()\n",
    "from pyspark import SparkContext\n",
    "from pyspark.sql.session import SparkSession\n",
    "spark_context = SparkContext(\"local\", \"first_app\")\n",
    "spark = SparkSession(spark_context)\n",
    "import plotly.graph_objects as go\n",
    "from pyspark.sql import SQLContext\n",
    "sql_context = SQLContext(spark_context)"
   ]
  },
  {
   "cell_type": "code",
   "execution_count": 2,
   "id": "62fec44c-8dbc-4843-8340-4683e7231c78",
   "metadata": {},
   "outputs": [
    {
     "data": {
      "text/plain": [
       "[('Afghanistan', (19, 0)),\n",
       " ('Afghanistan', (3, 0)),\n",
       " ('Afghanistan', (11, 1)),\n",
       " ('Afghanistan', (3, 0)),\n",
       " ('Afghanistan', (55, 4))]"
      ]
     },
     "execution_count": 2,
     "metadata": {},
     "output_type": "execute_result"
    }
   ],
   "source": [
    "text_file = sql_context.read.format(\"com.databricks.spark.csv\").options(header='true', inferschema='true', quote='\"', delimiter=',').load(\"/home/jovyan/work/Covid19.csv\")\n",
    "rdd_filter = text_file.rdd.map(tuple)\n",
    "rdd_covid = rdd_filter.map(lambda word: (word[7], (word[5], word[6], word[2])))\n",
    "rdd_covid = rdd_covid.filter(lambda word: word[1][2] == 8)\n",
    "rdd_covid = rdd_covid.map(lambda word: (word[0], (word[1][0], word[1][1])))\n",
    "rdd_covid.take(5)"
   ]
  },
  {
   "cell_type": "code",
   "execution_count": 3,
   "id": "a86bb89e-45b6-4170-af7f-f271bc72a1cb",
   "metadata": {},
   "outputs": [
    {
     "name": "stdout",
     "output_type": "stream",
     "text": [
      "[('Afghanistan', (1620, 131)), ('Argentina', (222243, 5090)), ('Armenia', (5200, 139)), ('Aruba', (1877, 7)), ('Australia', (9367, 422))]\n"
     ]
    }
   ],
   "source": [
    "rdd_covid = rdd_covid.reduceByKey(lambda a,b: (a[0]+b[0],a[1]+b[1]))\n",
    "print(rdd_covid.take(5))"
   ]
  },
  {
   "cell_type": "code",
   "execution_count": 4,
   "id": "55a6c327-d105-4fd3-a47e-1340ed4b4513",
   "metadata": {},
   "outputs": [
    {
     "name": "stdout",
     "output_type": "stream",
     "text": [
      "[('Guatemala', (25086, 873))]\n"
     ]
    }
   ],
   "source": [
    "rdd_covid = rdd_covid.filter(lambda word: word[0] in [\"Guatemala\"])\n",
    "print(rdd_covid.collect())"
   ]
  },
  {
   "cell_type": "code",
   "execution_count": 5,
   "id": "b2b142c8-5121-4539-a537-256711dc9b7d",
   "metadata": {},
   "outputs": [
    {
     "data": {
      "text/plain": [
       "[25086, 873]"
      ]
     },
     "execution_count": 5,
     "metadata": {},
     "output_type": "execute_result"
    }
   ],
   "source": [
    "covid_cases = rdd_covid.map(lambda x: x[1][0])\n",
    "covid_deaths = rdd_covid.map(lambda x: x[1][1])\n",
    "covid_data = [covid_cases.collect()[0], covid_deaths.collect()[0]]\n",
    "covid_data"
   ]
  },
  {
   "cell_type": "code",
   "execution_count": 6,
   "id": "6fd49d83-a8b7-49da-ad70-bcdf0755c259",
   "metadata": {},
   "outputs": [],
   "source": [
    "fig = go.Figure(data=go.Bar(x=[\"Cases\", \"Deaths\"],y=covid_data))\n",
    "fig.update_layout(title_text='Covid-19 cases and deaths in Guatemala in august',title_font_size=30,\n",
    "                  yaxis=dict(title='Total',title_font_size=25),\n",
    "                  xaxis=dict(title='Type',title_font_size=25))\n",
    "fig.update_traces(overwrite=True, marker={\"opacity\": 0.5})\n",
    "fig.write_html('report7.html', auto_open=True)"
   ]
  },
  {
   "cell_type": "code",
   "execution_count": null,
   "id": "512f8084-e8e3-4b0f-9f6f-ef5ef35fadff",
   "metadata": {},
   "outputs": [],
   "source": []
  }
 ],
 "metadata": {
  "kernelspec": {
   "display_name": "Python 3",
   "language": "python",
   "name": "python3"
  },
  "language_info": {
   "codemirror_mode": {
    "name": "ipython",
    "version": 3
   },
   "file_extension": ".py",
   "mimetype": "text/x-python",
   "name": "python",
   "nbconvert_exporter": "python",
   "pygments_lexer": "ipython3",
   "version": "3.8.8"
  }
 },
 "nbformat": 4,
 "nbformat_minor": 5
}
