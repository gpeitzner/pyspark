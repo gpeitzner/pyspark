{
 "cells": [
  {
   "cell_type": "code",
   "execution_count": 1,
   "id": "15a6465d-3c6b-4442-8b57-e01d295cfef8",
   "metadata": {},
   "outputs": [],
   "source": [
    "import findspark\n",
    "findspark.init()\n",
    "from pyspark import SparkContext\n",
    "from pyspark.sql.session import SparkSession\n",
    "spark_context = SparkContext(\"local\", \"first_app\")\n",
    "spark = SparkSession(spark_context)\n",
    "import plotly.graph_objects as go\n",
    "from pyspark.sql import SQLContext\n",
    "sql_context = SQLContext(spark_context)"
   ]
  },
  {
   "cell_type": "code",
   "execution_count": 2,
   "id": "62fec44c-8dbc-4843-8340-4683e7231c78",
   "metadata": {},
   "outputs": [
    {
     "data": {
      "text/plain": [
       "[('01', 195), ('02', 112), ('03', 159), ('04', 193), ('05', 82)]"
      ]
     },
     "execution_count": 2,
     "metadata": {},
     "output_type": "execute_result"
    }
   ],
   "source": [
    "text_file = sql_context.read.format(\"com.databricks.spark.csv\").options(header='true', inferschema='true', quote='\"', delimiter=',').load(\"/home/jovyan/work/TraficoAereoGt.csv\")\n",
    "rdd_filter = text_file.rdd.map(tuple)\n",
    "rdd_landings = rdd_filter.map(lambda word: (word[0].split(\"/\")[1], word[5]))\n",
    "rdd_landings.take(5)"
   ]
  },
  {
   "cell_type": "code",
   "execution_count": 3,
   "id": "a86bb89e-45b6-4170-af7f-f271bc72a1cb",
   "metadata": {},
   "outputs": [
    {
     "name": "stdout",
     "output_type": "stream",
     "text": [
      "[('01', 6034), ('02', 5912), ('03', 5600), ('04', 5723), ('05', 5690), ('06', 5476), ('07', 5972), ('08', 5850), ('09', 5425), ('10', 5347), ('11', 6467), ('12', 5862)]\n"
     ]
    }
   ],
   "source": [
    "rdd_landings = rdd_landings.reduceByKey(lambda a,b: a+b)\n",
    "print(rdd_landings.collect())"
   ]
  },
  {
   "cell_type": "code",
   "execution_count": 4,
   "id": "55a6c327-d105-4fd3-a47e-1340ed4b4513",
   "metadata": {},
   "outputs": [
    {
     "name": "stdout",
     "output_type": "stream",
     "text": [
      "[('11', 6467), ('01', 6034), ('07', 5972)]\n"
     ]
    }
   ],
   "source": [
    "rdd_landings = spark_context.parallelize(rdd_landings.sortBy(lambda a: a[1], False).take(3))\n",
    "print(rdd_landings.collect())"
   ]
  },
  {
   "cell_type": "code",
   "execution_count": 5,
   "id": "b2b142c8-5121-4539-a537-256711dc9b7d",
   "metadata": {},
   "outputs": [
    {
     "name": "stdout",
     "output_type": "stream",
     "text": [
      "['11', '01', '07']\n",
      "[6467, 6034, 5972]\n"
     ]
    }
   ],
   "source": [
    "landing_month = rdd_landings.map(lambda x: x[0])\n",
    "landing_quantity = rdd_landings.map(lambda x: x[1])\n",
    "print(landing_month.collect())\n",
    "print(landing_quantity.collect())"
   ]
  },
  {
   "cell_type": "code",
   "execution_count": 6,
   "id": "6fd49d83-a8b7-49da-ad70-bcdf0755c259",
   "metadata": {},
   "outputs": [],
   "source": [
    "fig = go.Figure(data=go.Pie(labels=landing_month.collect(),values=landing_quantity.collect()))\n",
    "fig.update_layout(title_text='Top 3 months with the highest outbound passengers',title_font_size=30)\n",
    "fig.update_traces(hoverinfo='label+percent', textinfo='value', textfont_size=20)\n",
    "fig.write_html('report4.html', auto_open=True)"
   ]
  },
  {
   "cell_type": "code",
   "execution_count": null,
   "id": "2adfc7ad-3cb8-4e92-afe4-139304b832c9",
   "metadata": {},
   "outputs": [],
   "source": []
  }
 ],
 "metadata": {
  "kernelspec": {
   "display_name": "Python 3",
   "language": "python",
   "name": "python3"
  },
  "language_info": {
   "codemirror_mode": {
    "name": "ipython",
    "version": 3
   },
   "file_extension": ".py",
   "mimetype": "text/x-python",
   "name": "python",
   "nbconvert_exporter": "python",
   "pygments_lexer": "ipython3",
   "version": "3.8.8"
  }
 },
 "nbformat": 4,
 "nbformat_minor": 5
}
