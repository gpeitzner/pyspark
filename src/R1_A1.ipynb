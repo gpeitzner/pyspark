{
 "cells": [
  {
   "cell_type": "code",
   "execution_count": 1,
   "id": "15a6465d-3c6b-4442-8b57-e01d295cfef8",
   "metadata": {},
   "outputs": [],
   "source": [
    "import findspark\n",
    "findspark.init()\n",
    "from pyspark import SparkContext\n",
    "from pyspark.sql.session import SparkSession\n",
    "spark_context = SparkContext(\"local\", \"first_app\")\n",
    "spark = SparkSession(spark_context)\n",
    "import plotly.graph_objects as go\n",
    "from pyspark.sql import SQLContext\n",
    "sql_context = SQLContext(spark_context)"
   ]
  },
  {
   "cell_type": "code",
   "execution_count": 2,
   "id": "62fec44c-8dbc-4843-8340-4683e7231c78",
   "metadata": {},
   "outputs": [
    {
     "data": {
      "text/plain": [
       "[('China', 18490000.0),\n",
       " ('China', 9830000.0),\n",
       " ('China', 8360000.0),\n",
       " ('China', 7110000.0),\n",
       " ('China', 4070000.0)]"
      ]
     },
     "execution_count": 2,
     "metadata": {},
     "output_type": "execute_result"
    }
   ],
   "source": [
    "text_file = sql_context.read.format(\"com.databricks.spark.csv\").options(header='true', inferschema='true', quote='\"', delimiter=',').load(\"/home/jovyan/work/GuatemalaExportsTo.csv\")\n",
    "rdd_filter = text_file.rdd.map(tuple)\n",
    "rdd_countries = rdd_filter.map(lambda word: (word[4], word[1]))\n",
    "rdd_countries.take(5)"
   ]
  },
  {
   "cell_type": "code",
   "execution_count": 3,
   "id": "a86bb89e-45b6-4170-af7f-f271bc72a1cb",
   "metadata": {},
   "outputs": [
    {
     "name": "stdout",
     "output_type": "stream",
     "text": [
      "[('China', 64176766.0), ('Mexico', 511215129.0), ('Canada', 222575942.0), ('Japon', 164579976.0), ('United Kingdom', 101910872.0), ('Costa Rica', 428419775.0), ('Saudi Arabia', 111274535.0), ('Gabon', 6420.0), ('Italy', 166680831.0), ('France', 34023574.0), ('Brazil', 39146101.0), ('Germany', 144422819.0), ('Honduras', 967311616.0), ('Venezuela', 14998293.0), ('El Salvador', 1217138626.0), ('United States', 3803123168.0)]\n"
     ]
    }
   ],
   "source": [
    "rdd_countries_export = rdd_countries.reduceByKey(lambda a,b: a+b)\n",
    "print(rdd_countries_export.collect())"
   ]
  },
  {
   "cell_type": "code",
   "execution_count": 4,
   "id": "55a6c327-d105-4fd3-a47e-1340ed4b4513",
   "metadata": {},
   "outputs": [
    {
     "name": "stdout",
     "output_type": "stream",
     "text": [
      "[('United States', 3803123168.0), ('El Salvador', 1217138626.0), ('Honduras', 967311616.0), ('Mexico', 511215129.0), ('Costa Rica', 428419775.0)]\n"
     ]
    }
   ],
   "source": [
    "rdd_countries_export_sort = spark_context.parallelize(rdd_countries_export.sortBy(lambda a: a[1], False).take(5))\n",
    "print(rdd_countries_export_sort.collect())"
   ]
  },
  {
   "cell_type": "code",
   "execution_count": 5,
   "id": "b2b142c8-5121-4539-a537-256711dc9b7d",
   "metadata": {},
   "outputs": [
    {
     "name": "stdout",
     "output_type": "stream",
     "text": [
      "['United States', 'El Salvador', 'Honduras', 'Mexico', 'Costa Rica']\n",
      "[3803123168.0, 1217138626.0, 967311616.0, 511215129.0, 428419775.0]\n"
     ]
    }
   ],
   "source": [
    "countries_name = rdd_countries_export_sort.map(lambda x: x[0])\n",
    "countries_quantity = rdd_countries_export_sort.map(lambda x: x[1])\n",
    "print(countries_name.collect())\n",
    "print(countries_quantity.collect())"
   ]
  },
  {
   "cell_type": "code",
   "execution_count": 6,
   "id": "6fd49d83-a8b7-49da-ad70-bcdf0755c259",
   "metadata": {},
   "outputs": [],
   "source": [
    "fig = go.Figure(data=go.Bar(x=countries_name.collect(),y=countries_quantity.collect()))\n",
    "fig.update_layout(title_text='Top 5 countries with higher exports value',title_font_size=30,\n",
    "                  yaxis=dict(title='Total',title_font_size=25),\n",
    "                  xaxis=dict(title='Country',title_font_size=25))\n",
    "fig.update_traces(overwrite=True, marker={\"opacity\": 0.5})\n",
    "fig.write_html('report1.html', auto_open=True)"
   ]
  },
  {
   "cell_type": "code",
   "execution_count": null,
   "id": "7b4f5942-3b0f-4f47-94b8-f83aebc35b93",
   "metadata": {},
   "outputs": [],
   "source": []
  }
 ],
 "metadata": {
  "kernelspec": {
   "display_name": "Python 3",
   "language": "python",
   "name": "python3"
  },
  "language_info": {
   "codemirror_mode": {
    "name": "ipython",
    "version": 3
   },
   "file_extension": ".py",
   "mimetype": "text/x-python",
   "name": "python",
   "nbconvert_exporter": "python",
   "pygments_lexer": "ipython3",
   "version": "3.8.8"
  }
 },
 "nbformat": 4,
 "nbformat_minor": 5
}
