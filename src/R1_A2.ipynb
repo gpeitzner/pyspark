{
 "cells": [
  {
   "cell_type": "code",
   "execution_count": 1,
   "id": "15a6465d-3c6b-4442-8b57-e01d295cfef8",
   "metadata": {},
   "outputs": [],
   "source": [
    "import findspark\n",
    "findspark.init()\n",
    "from pyspark import SparkContext\n",
    "from pyspark.sql.session import SparkSession\n",
    "spark_context = SparkContext(\"local\", \"first_app\")\n",
    "spark = SparkSession(spark_context)\n",
    "import plotly.graph_objects as go\n",
    "from pyspark.sql import SQLContext\n",
    "sql_context = SQLContext(spark_context)"
   ]
  },
  {
   "cell_type": "code",
   "execution_count": 2,
   "id": "62fec44c-8dbc-4843-8340-4683e7231c78",
   "metadata": {},
   "outputs": [
    {
     "data": {
      "text/plain": [
       "[('Coatepeque', 3607),\n",
       " ('Coatepeque', 5261),\n",
       " ('Coatepeque', 629),\n",
       " ('Coatepeque', 3690),\n",
       " ('Coatepeque', 307)]"
      ]
     },
     "execution_count": 2,
     "metadata": {},
     "output_type": "execute_result"
    }
   ],
   "source": [
    "text_file = sql_context.read.format(\"com.databricks.spark.csv\").options(header='true', inferschema='true', quote='\"', delimiter=',').load(\"/home/jovyan/work/TraficoAereoGt.csv\")\n",
    "rdd_filter = text_file.rdd.map(tuple)\n",
    "rdd_landings = rdd_filter.map(lambda word: (word[2], word[3]))\n",
    "rdd_landings.take(5)"
   ]
  },
  {
   "cell_type": "code",
   "execution_count": 3,
   "id": "a86bb89e-45b6-4170-af7f-f271bc72a1cb",
   "metadata": {},
   "outputs": [
    {
     "name": "stdout",
     "output_type": "stream",
     "text": [
      "[('Coatepeque', 167223), ('Huehuetenango', 198734), ('Poptun', 173559), ('Puerto Barros', 203204), ('Mundo Maya', 170385), ('La Aurora', 150513), ('Puerto San Jose', 162211), ('Quetzaltenango', 194403), ('Retalhuleu', 174374), ('San Marcos', 208806)]\n"
     ]
    }
   ],
   "source": [
    "rdd_landings = rdd_landings.reduceByKey(lambda a,b: a+b)\n",
    "print(rdd_landings.collect())"
   ]
  },
  {
   "cell_type": "code",
   "execution_count": 4,
   "id": "55a6c327-d105-4fd3-a47e-1340ed4b4513",
   "metadata": {},
   "outputs": [
    {
     "name": "stdout",
     "output_type": "stream",
     "text": [
      "[('San Marcos', 208806), ('Puerto Barros', 203204), ('Huehuetenango', 198734), ('Quetzaltenango', 194403), ('Retalhuleu', 174374), ('Poptun', 173559), ('Mundo Maya', 170385), ('Coatepeque', 167223), ('Puerto San Jose', 162211), ('La Aurora', 150513)]\n"
     ]
    }
   ],
   "source": [
    "rdd_landings = spark_context.parallelize(rdd_landings.sortBy(lambda a: a[1], False).collect())\n",
    "print(rdd_landings.collect())"
   ]
  },
  {
   "cell_type": "code",
   "execution_count": 5,
   "id": "b2b142c8-5121-4539-a537-256711dc9b7d",
   "metadata": {},
   "outputs": [
    {
     "name": "stdout",
     "output_type": "stream",
     "text": [
      "['San Marcos', 'Puerto Barros', 'Huehuetenango', 'Quetzaltenango', 'Retalhuleu', 'Poptun', 'Mundo Maya', 'Coatepeque', 'Puerto San Jose', 'La Aurora']\n",
      "[208806, 203204, 198734, 194403, 174374, 173559, 170385, 167223, 162211, 150513]\n"
     ]
    }
   ],
   "source": [
    "airports_name = rdd_landings.map(lambda x: x[0])\n",
    "airports_landings = rdd_landings.map(lambda x: x[1])\n",
    "print(airports_name.collect())\n",
    "print(airports_landings.collect())"
   ]
  },
  {
   "cell_type": "code",
   "execution_count": 6,
   "id": "6fd49d83-a8b7-49da-ad70-bcdf0755c259",
   "metadata": {},
   "outputs": [],
   "source": [
    "fig = go.Figure(data=go.Bar(x=airports_name.collect(),y=airports_landings.collect()))\n",
    "fig.update_layout(title_text='Total landings per airport',title_font_size=30,\n",
    "                  yaxis=dict(title='Landings',title_font_size=25),\n",
    "                  xaxis=dict(title='Airport',title_font_size=25))\n",
    "fig.update_traces(overwrite=True, marker={\"opacity\": 0.5})\n",
    "fig.write_html('report3.html', auto_open=True)"
   ]
  },
  {
   "cell_type": "code",
   "execution_count": null,
   "id": "2adfc7ad-3cb8-4e92-afe4-139304b832c9",
   "metadata": {},
   "outputs": [],
   "source": []
  }
 ],
 "metadata": {
  "kernelspec": {
   "display_name": "Python 3",
   "language": "python",
   "name": "python3"
  },
  "language_info": {
   "codemirror_mode": {
    "name": "ipython",
    "version": 3
   },
   "file_extension": ".py",
   "mimetype": "text/x-python",
   "name": "python",
   "nbconvert_exporter": "python",
   "pygments_lexer": "ipython3",
   "version": "3.8.8"
  }
 },
 "nbformat": 4,
 "nbformat_minor": 5
}
