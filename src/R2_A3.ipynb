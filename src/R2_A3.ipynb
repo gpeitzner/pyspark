{
 "cells": [
  {
   "cell_type": "code",
   "execution_count": 1,
   "id": "15a6465d-3c6b-4442-8b57-e01d295cfef8",
   "metadata": {},
   "outputs": [],
   "source": [
    "import findspark\n",
    "findspark.init()\n",
    "from pyspark import SparkContext\n",
    "from pyspark.sql.session import SparkSession\n",
    "spark_context = SparkContext(\"local\", \"first_app\")\n",
    "spark = SparkSession(spark_context)\n",
    "import plotly.graph_objects as go\n",
    "from pyspark.sql import SQLContext\n",
    "sql_context = SQLContext(spark_context)"
   ]
  },
  {
   "cell_type": "code",
   "execution_count": 2,
   "id": "62fec44c-8dbc-4843-8340-4683e7231c78",
   "metadata": {},
   "outputs": [
    {
     "data": {
      "text/plain": [
       "[(9, 0), (9, 125), (9, 47), (9, 0), (9, 17)]"
      ]
     },
     "execution_count": 2,
     "metadata": {},
     "output_type": "execute_result"
    }
   ],
   "source": [
    "text_file = sql_context.read.format(\"com.databricks.spark.csv\").options(header='true', inferschema='true', quote='\"', delimiter=',').load(\"/home/jovyan/work/Covid19.csv\")\n",
    "rdd_filter = text_file.rdd.map(tuple)\n",
    "rdd_covid = rdd_filter.map(lambda word: (word[2], word[5]))\n",
    "rdd_covid.take(5)"
   ]
  },
  {
   "cell_type": "code",
   "execution_count": 3,
   "id": "a86bb89e-45b6-4170-af7f-f271bc72a1cb",
   "metadata": {},
   "outputs": [
    {
     "name": "stdout",
     "output_type": "stream",
     "text": [
      "[(9, 2374517), (8, 3584040), (7, 3288723), (6, 2527885), (5, 1555025), (3, 324799), (4, 868927), (2, 73635), (1, 9758)]\n"
     ]
    }
   ],
   "source": [
    "rdd_covid = rdd_covid.reduceByKey(lambda a,b: a+b)\n",
    "print(rdd_covid.collect())"
   ]
  },
  {
   "cell_type": "code",
   "execution_count": 4,
   "id": "55a6c327-d105-4fd3-a47e-1340ed4b4513",
   "metadata": {},
   "outputs": [
    {
     "name": "stdout",
     "output_type": "stream",
     "text": [
      "[(1, 9758), (2, 73635), (3, 324799), (4, 868927), (5, 1555025)]\n"
     ]
    }
   ],
   "source": [
    "rdd_covid = spark_context.parallelize(rdd_covid.sortBy(lambda a: a[1], True).take(5))\n",
    "print(rdd_covid.collect())"
   ]
  },
  {
   "cell_type": "code",
   "execution_count": 5,
   "id": "b2b142c8-5121-4539-a537-256711dc9b7d",
   "metadata": {},
   "outputs": [
    {
     "name": "stdout",
     "output_type": "stream",
     "text": [
      "[1, 2, 3, 4, 5]\n",
      "[9758, 73635, 324799, 868927, 1555025]\n"
     ]
    }
   ],
   "source": [
    "covid_month = rdd_covid.map(lambda x: x[0])\n",
    "covid_cases = rdd_covid.map(lambda x: x[1])\n",
    "print(covid_month.collect())\n",
    "print(covid_cases.collect())"
   ]
  },
  {
   "cell_type": "code",
   "execution_count": 6,
   "id": "6fd49d83-a8b7-49da-ad70-bcdf0755c259",
   "metadata": {},
   "outputs": [],
   "source": [
    "fig = go.Figure(data=go.Bar(x=covid_month.collect(),y=covid_cases.collect()))\n",
    "fig.update_layout(title_text='Total cases per month',title_font_size=30,\n",
    "                  yaxis=dict(title='Cases',title_font_size=25),\n",
    "                  xaxis=dict(title='Month',title_font_size=25))\n",
    "fig.update_traces(overwrite=True, marker={\"opacity\": 0.5})\n",
    "fig.write_html('report6.html', auto_open=True)"
   ]
  },
  {
   "cell_type": "code",
   "execution_count": null,
   "id": "0d2a4b76-bc0c-4fe1-9c77-3cbf704941e6",
   "metadata": {},
   "outputs": [],
   "source": []
  }
 ],
 "metadata": {
  "kernelspec": {
   "display_name": "Python 3",
   "language": "python",
   "name": "python3"
  },
  "language_info": {
   "codemirror_mode": {
    "name": "ipython",
    "version": 3
   },
   "file_extension": ".py",
   "mimetype": "text/x-python",
   "name": "python",
   "nbconvert_exporter": "python",
   "pygments_lexer": "ipython3",
   "version": "3.8.8"
  }
 },
 "nbformat": 4,
 "nbformat_minor": 5
}
