{
 "cells": [
  {
   "cell_type": "code",
   "execution_count": 1,
   "id": "15a6465d-3c6b-4442-8b57-e01d295cfef8",
   "metadata": {},
   "outputs": [],
   "source": [
    "import findspark\n",
    "findspark.init()\n",
    "from pyspark import SparkContext\n",
    "from pyspark.sql.session import SparkSession\n",
    "spark_context = SparkContext(\"local\", \"first_app\")\n",
    "spark = SparkSession(spark_context)\n",
    "import plotly.graph_objects as go\n",
    "from pyspark.sql import SQLContext\n",
    "sql_context = SQLContext(spark_context)"
   ]
  },
  {
   "cell_type": "code",
   "execution_count": 2,
   "id": "62fec44c-8dbc-4843-8340-4683e7231c78",
   "metadata": {},
   "outputs": [
    {
     "data": {
      "text/plain": [
       "[('Afghanistan', 0),\n",
       " ('Afghanistan', 125),\n",
       " ('Afghanistan', 47),\n",
       " ('Afghanistan', 0),\n",
       " ('Afghanistan', 17)]"
      ]
     },
     "execution_count": 2,
     "metadata": {},
     "output_type": "execute_result"
    }
   ],
   "source": [
    "text_file = sql_context.read.format(\"com.databricks.spark.csv\").options(header='true', inferschema='true', quote='\"', delimiter=',').load(\"/home/jovyan/work/Covid19.csv\")\n",
    "rdd_filter = text_file.rdd.map(tuple)\n",
    "rdd_covid = rdd_filter.map(lambda word: (word[7], word[5]))\n",
    "rdd_covid.take(5)"
   ]
  },
  {
   "cell_type": "code",
   "execution_count": 3,
   "id": "a86bb89e-45b6-4170-af7f-f271bc72a1cb",
   "metadata": {},
   "outputs": [
    {
     "name": "stdout",
     "output_type": "stream",
     "text": [
      "[('Vietnam', 716), ('Venezuela', 14263), ('Thailand', 1248)]\n"
     ]
    }
   ],
   "source": [
    "rdd_covid = rdd_covid.reduceByKey(lambda a,b: a+b)\n",
    "print(rdd_covid.top(3))"
   ]
  },
  {
   "cell_type": "code",
   "execution_count": 4,
   "id": "55a6c327-d105-4fd3-a47e-1340ed4b4513",
   "metadata": {},
   "outputs": [
    {
     "name": "stdout",
     "output_type": "stream",
     "text": [
      "[('Canada', 143649), ('Cuba', 5091), ('France', 453763), ('Singapore', 57576), ('South_Korea', 23045)]\n"
     ]
    }
   ],
   "source": [
    "rdd_covid = rdd_covid.filter(lambda word: word[0] in [\"Cuba\", \"France\", \"Canada\", \"Singapore\", \"South_Korea\"])\n",
    "print(rdd_covid.collect())"
   ]
  },
  {
   "cell_type": "code",
   "execution_count": 5,
   "id": "b2b142c8-5121-4539-a537-256711dc9b7d",
   "metadata": {},
   "outputs": [
    {
     "name": "stdout",
     "output_type": "stream",
     "text": [
      "['Canada', 'Cuba', 'France', 'Singapore', 'South_Korea']\n",
      "[143649, 5091, 453763, 57576, 23045]\n"
     ]
    }
   ],
   "source": [
    "covid_country = rdd_covid.map(lambda x: x[0])\n",
    "covid_cases = rdd_covid.map(lambda x: x[1])\n",
    "print(covid_country.collect())\n",
    "print(covid_cases.collect())"
   ]
  },
  {
   "cell_type": "code",
   "execution_count": 6,
   "id": "6fd49d83-a8b7-49da-ad70-bcdf0755c259",
   "metadata": {},
   "outputs": [],
   "source": [
    "fig = go.Figure(data=go.Bar(x=covid_country.collect(),y=covid_cases.collect()))\n",
    "fig.update_layout(title_text='Covid cases per country',title_font_size=30,\n",
    "                  yaxis=dict(title='Total',title_font_size=25),\n",
    "                  xaxis=dict(title='Country',title_font_size=25))\n",
    "fig.update_traces(overwrite=True, marker={\"opacity\": 0.5})\n",
    "fig.write_html('report5.html', auto_open=True)"
   ]
  },
  {
   "cell_type": "code",
   "execution_count": null,
   "id": "cc1f0aae-41e1-4fea-908c-a57e46dcf1ee",
   "metadata": {},
   "outputs": [],
   "source": []
  }
 ],
 "metadata": {
  "kernelspec": {
   "display_name": "Python 3",
   "language": "python",
   "name": "python3"
  },
  "language_info": {
   "codemirror_mode": {
    "name": "ipython",
    "version": 3
   },
   "file_extension": ".py",
   "mimetype": "text/x-python",
   "name": "python",
   "nbconvert_exporter": "python",
   "pygments_lexer": "ipython3",
   "version": "3.8.8"
  }
 },
 "nbformat": 4,
 "nbformat_minor": 5
}
